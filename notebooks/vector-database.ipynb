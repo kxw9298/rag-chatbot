{
 "cells": [
  {
   "cell_type": "markdown",
   "metadata": {},
   "source": [
    "# Step 1: Install Required Libraries\n",
    "Make sure the necessary libraries are installed."
   ]
  },
  {
   "cell_type": "code",
   "execution_count": 1,
   "metadata": {},
   "outputs": [
    {
     "name": "stdout",
     "output_type": "stream",
     "text": [
      "Requirement already satisfied: requests in /opt/conda/lib/python3.11/site-packages (2.31.0)\n",
      "Requirement already satisfied: charset-normalizer<4,>=2 in /opt/conda/lib/python3.11/site-packages (from requests) (3.3.0)\n",
      "Requirement already satisfied: idna<4,>=2.5 in /opt/conda/lib/python3.11/site-packages (from requests) (3.4)\n",
      "Requirement already satisfied: urllib3<3,>=1.21.1 in /opt/conda/lib/python3.11/site-packages (from requests) (2.0.7)\n",
      "Requirement already satisfied: certifi>=2017.4.17 in /opt/conda/lib/python3.11/site-packages (from requests) (2023.7.22)\n"
     ]
    }
   ],
   "source": [
    "!pip install requests"
   ]
  },
  {
   "cell_type": "markdown",
   "metadata": {},
   "source": [
    "# Step 2: Set up REST API interaction\n",
    "In this step, we will define a function that interacts with the Flask API to process documents."
   ]
  },
  {
   "cell_type": "code",
   "execution_count": 2,
   "metadata": {},
   "outputs": [],
   "source": [
    "import requests\n",
    "import os\n",
    "\n",
    "def process_document_via_api(file_path):\n",
    "    \"\"\"\n",
    "    This function sends a request to the document processor API to process the document.\n",
    "    It sends the file path as a payload to the API.\n",
    "    \"\"\"\n",
    "    # Define the API URL (adjust if running on a different host)\n",
    "    api_url = \"http://doc_processor:5000/process_document\"\n",
    "\n",
    "    # Check if the file exists\n",
    "    # if not os.path.exists(file_path):\n",
    "    #     raise ValueError(f\"The file at {file_path} does not exist.\")\n",
    "\n",
    "    # Create the payload with the file path\n",
    "    payload = {\"file_path\": file_path}\n",
    "\n",
    "    # Send the POST request to the API\n",
    "    response = requests.post(api_url, json=payload)\n",
    "\n",
    "    # Check if the request was successful\n",
    "    if response.status_code == 200:\n",
    "        print(\"Document processed successfully.\")\n",
    "        return response.json()\n",
    "    else:\n",
    "        print(f\"Error: {response.status_code}\")\n",
    "        print(response)\n",
    "        response.raise_for_status()"
   ]
  },
  {
   "cell_type": "markdown",
   "metadata": {},
   "source": [
    "# Step 3: Process a Document via the REST API\n",
    "Provide the file path to the document you want to process."
   ]
  },
  {
   "cell_type": "code",
   "execution_count": 3,
   "metadata": {},
   "outputs": [
    {
     "name": "stdout",
     "output_type": "stream",
     "text": [
      "Document processed successfully.\n"
     ]
    },
    {
     "data": {
      "text/plain": [
       "{'message': 'Document processed successfully. Number of chunks: 47'}"
      ]
     },
     "execution_count": 3,
     "metadata": {},
     "output_type": "execute_result"
    }
   ],
   "source": [
    "# Example file path (adjust this to point to your document)\n",
    "file_path = \"/app/documents/carbon-free-energy.pdf\"\n",
    "\n",
    "# Call the REST API to process the document\n",
    "response = process_document_via_api(file_path)\n",
    "\n",
    "# Output the API response\n",
    "response"
   ]
  },
  {
   "cell_type": "markdown",
   "metadata": {},
   "source": [
    "# Step 4: Perform Semantic Search Query (Optional)\n",
    "Once the document is processed, you can modify this step to interact with the database for querying embeddings.\n",
    "Here, you can build additional functionality to run queries directly on the database using `psycopg2`."
   ]
  },
  {
   "cell_type": "code",
   "execution_count": null,
   "metadata": {},
   "outputs": [],
   "source": []
  }
 ],
 "metadata": {
  "kernelspec": {
   "display_name": "Python 3 (ipykernel)",
   "language": "python",
   "name": "python3"
  },
  "language_info": {
   "codemirror_mode": {
    "name": "ipython",
    "version": 3
   },
   "file_extension": ".py",
   "mimetype": "text/x-python",
   "name": "python",
   "nbconvert_exporter": "python",
   "pygments_lexer": "ipython3",
   "version": "3.11.6"
  }
 },
 "nbformat": 4,
 "nbformat_minor": 4
}
